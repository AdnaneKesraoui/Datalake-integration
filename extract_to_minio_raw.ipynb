{
 "cells": [
  {
   "cell_type": "code",
   "execution_count": 1,
   "metadata": {},
   "outputs": [],
   "source": [
    "import pyodbc\n",
    "import boto3\n",
    "from botocore.exceptions import NoCredentialsError\n",
    "import os\n",
    "import pandas as pd"
   ]
  },
  {
   "cell_type": "code",
   "execution_count": 2,
   "metadata": {},
   "outputs": [],
   "source": [
    "# Database Connection Configuration\n",
    "server = 'KATANA'\n",
    "database = 'Chinook'\n",
    "username = 'sa'\n",
    "password = ''\n",
    "driver = '{SQL Server}'"
   ]
  },
  {
   "cell_type": "code",
   "execution_count": 3,
   "metadata": {},
   "outputs": [],
   "source": [
    "# MinIO Configuration\n",
    "minio_endpoint = 'http://localhost:9000'\n",
    "minio_access_key = 'minioadmin'\n",
    "minio_secret_key = 'minioadmin'\n",
    "bucket_name = 'raw'"
   ]
  },
  {
   "cell_type": "code",
   "execution_count": 4,
   "metadata": {},
   "outputs": [],
   "source": [
    "# Paths for Temporary CSV Files\n",
    "output_path = \"C:/ChinookData/\"\n",
    "os.makedirs(output_path, exist_ok=True)  "
   ]
  },
  {
   "cell_type": "code",
   "execution_count": 5,
   "metadata": {},
   "outputs": [],
   "source": [
    "def get_table_names():\n",
    "    try:\n",
    "        print(\"Fetching table names from SQL Server...\")\n",
    "        conn = pyodbc.connect(\n",
    "            f'DRIVER={driver};SERVER={server};DATABASE={database};UID={username};PWD={password}'\n",
    "        )\n",
    "        query = \"\"\"\n",
    "        SELECT TABLE_NAME \n",
    "        FROM INFORMATION_SCHEMA.TABLES \n",
    "        WHERE TABLE_TYPE = 'BASE TABLE';\n",
    "        \"\"\"\n",
    "        table_names = pd.read_sql(query, conn)['TABLE_NAME'].tolist()\n",
    "        conn.close()\n",
    "        print(f\"Found tables: {table_names}\")\n",
    "        return table_names\n",
    "    except Exception as e:\n",
    "        print(f\"Error fetching table names: {e}\")\n",
    "        return []"
   ]
  },
  {
   "cell_type": "code",
   "execution_count": 6,
   "metadata": {},
   "outputs": [],
   "source": [
    "def extract_raw_data(table_names):\n",
    "    try:\n",
    "        print(\"Connecting to SQL Server for data extraction...\")\n",
    "        conn = pyodbc.connect(\n",
    "            f'DRIVER={driver};SERVER={server};DATABASE={database};UID={username};PWD={password}'\n",
    "        )\n",
    "        for table in table_names:\n",
    "            print(f\"Extracting data for table: {table}...\")\n",
    "            query = f\"SELECT * FROM [{table}]\"\n",
    "            file_path = f\"{output_path}{table}.csv\"\n",
    "            df = pd.read_sql(query, conn)\n",
    "            df.to_csv(file_path, index=False)\n",
    "            print(f\"Saved data to: {file_path}\")\n",
    "        conn.close()\n",
    "        print(\"Data extraction complete.\")\n",
    "    except Exception as e:\n",
    "        print(f\"Error during data extraction: {e}\")\n"
   ]
  },
  {
   "cell_type": "code",
   "execution_count": 7,
   "metadata": {},
   "outputs": [],
   "source": [
    "# Function to Load Files into MinIO (Raw Zone)\n",
    "def load_to_minio_raw(table_names):\n",
    "    try:\n",
    "        print(\"Connecting to MinIO for file upload...\")\n",
    "        s3_client = boto3.client('s3',\n",
    "                                 endpoint_url=minio_endpoint,\n",
    "                                 aws_access_key_id=minio_access_key,\n",
    "                                 aws_secret_access_key=minio_secret_key)\n",
    "        for table in table_names:\n",
    "            file_path = f\"{output_path}{table}.csv\"\n",
    "            if os.path.exists(file_path):\n",
    "                print(f\"Uploading {table}.csv to MinIO Raw Zone...\")\n",
    "                s3_client.upload_file(file_path, bucket_name, f\"{table}.csv\")\n",
    "                print(f\"Uploaded {table}.csv to bucket '{bucket_name}'\")\n",
    "            else:\n",
    "                print(f\"File {file_path} does not exist. Skipping upload.\")\n",
    "        print(\"File upload complete.\")\n",
    "    except NoCredentialsError:\n",
    "        print(\"Credentials not available.\")\n",
    "    except Exception as e:\n",
    "        print(f\"Error during file upload: {e}\")\n"
   ]
  },
  {
   "cell_type": "code",
   "execution_count": 8,
   "metadata": {},
   "outputs": [
    {
     "name": "stdout",
     "output_type": "stream",
     "text": [
      "Starting ELT Extract and Load Phase...\n",
      "Fetching table names from SQL Server...\n"
     ]
    },
    {
     "name": "stderr",
     "output_type": "stream",
     "text": [
      "C:\\Users\\adnan\\AppData\\Local\\Temp\\ipykernel_24548\\1008654608.py:12: UserWarning: pandas only supports SQLAlchemy connectable (engine/connection) or database string URI or sqlite3 DBAPI2 connection. Other DBAPI2 objects are not tested. Please consider using SQLAlchemy.\n",
      "  table_names = pd.read_sql(query, conn)['TABLE_NAME'].tolist()\n"
     ]
    },
    {
     "name": "stdout",
     "output_type": "stream",
     "text": [
      "Found tables: ['Album', 'Artist', 'Customer', 'Employee', 'Genre', 'Invoice', 'InvoiceLine', 'MediaType', 'Playlist', 'PlaylistTrack', 'Track', 'sysdiagrams']\n",
      "Connecting to SQL Server for data extraction...\n",
      "Extracting data for table: Album...\n",
      "Saved data to: C:/ChinookData/Album.csv\n",
      "Extracting data for table: Artist...\n",
      "Saved data to: C:/ChinookData/Artist.csv\n",
      "Extracting data for table: Customer...\n",
      "Saved data to: C:/ChinookData/Customer.csv\n",
      "Extracting data for table: Employee...\n",
      "Saved data to: C:/ChinookData/Employee.csv\n",
      "Extracting data for table: Genre...\n",
      "Saved data to: C:/ChinookData/Genre.csv\n",
      "Extracting data for table: Invoice...\n",
      "Saved data to: C:/ChinookData/Invoice.csv\n",
      "Extracting data for table: InvoiceLine...\n",
      "Saved data to: C:/ChinookData/InvoiceLine.csv\n",
      "Extracting data for table: MediaType...\n",
      "Saved data to: C:/ChinookData/MediaType.csv\n",
      "Extracting data for table: Playlist...\n",
      "Saved data to: C:/ChinookData/Playlist.csv\n",
      "Extracting data for table: PlaylistTrack...\n",
      "Saved data to: C:/ChinookData/PlaylistTrack.csv\n",
      "Extracting data for table: Track...\n",
      "Saved data to: C:/ChinookData/Track.csv\n",
      "Extracting data for table: sysdiagrams...\n",
      "Saved data to: C:/ChinookData/sysdiagrams.csv\n",
      "Data extraction complete.\n",
      "Connecting to MinIO for file upload...\n",
      "Uploading Album.csv to MinIO Raw Zone...\n",
      "Uploaded Album.csv to bucket 'raw'\n",
      "Uploading Artist.csv to MinIO Raw Zone...\n",
      "Uploaded Artist.csv to bucket 'raw'\n",
      "Uploading Customer.csv to MinIO Raw Zone...\n",
      "Uploaded Customer.csv to bucket 'raw'\n",
      "Uploading Employee.csv to MinIO Raw Zone...\n",
      "Uploaded Employee.csv to bucket 'raw'\n",
      "Uploading Genre.csv to MinIO Raw Zone...\n",
      "Uploaded Genre.csv to bucket 'raw'\n",
      "Uploading Invoice.csv to MinIO Raw Zone...\n",
      "Uploaded Invoice.csv to bucket 'raw'\n",
      "Uploading InvoiceLine.csv to MinIO Raw Zone...\n",
      "Uploaded InvoiceLine.csv to bucket 'raw'\n",
      "Uploading MediaType.csv to MinIO Raw Zone...\n",
      "Uploaded MediaType.csv to bucket 'raw'\n",
      "Uploading Playlist.csv to MinIO Raw Zone...\n",
      "Uploaded Playlist.csv to bucket 'raw'\n",
      "Uploading PlaylistTrack.csv to MinIO Raw Zone...\n",
      "Uploaded PlaylistTrack.csv to bucket 'raw'\n",
      "Uploading Track.csv to MinIO Raw Zone...\n",
      "Uploaded Track.csv to bucket 'raw'\n",
      "Uploading sysdiagrams.csv to MinIO Raw Zone...\n",
      "Uploaded sysdiagrams.csv to bucket 'raw'\n",
      "File upload complete.\n",
      "ELT Extract and Load Phase Completed Successfully!\n"
     ]
    }
   ],
   "source": [
    "# Main Workflow\n",
    "if __name__ == \"__main__\":\n",
    "    print(\"Starting ELT Extract and Load Phase...\")\n",
    "    table_names = get_table_names()  # Step 1: Get all table names dynamically\n",
    "    if table_names:\n",
    "        extract_raw_data(table_names)  # Step 2: Extract data for all tables\n",
    "        load_to_minio_raw(table_names)  # Step 3: Upload files to MinIO\n",
    "    else:\n",
    "        print(\"No tables found in the database. Exiting.\")\n",
    "    print(\"ELT Extract and Load Phase Completed Successfully!\")"
   ]
  }
 ],
 "metadata": {
  "kernelspec": {
   "display_name": "Python 3",
   "language": "python",
   "name": "python3"
  },
  "language_info": {
   "codemirror_mode": {
    "name": "ipython",
    "version": 3
   },
   "file_extension": ".py",
   "mimetype": "text/x-python",
   "name": "python",
   "nbconvert_exporter": "python",
   "pygments_lexer": "ipython3",
   "version": "3.12.6"
  }
 },
 "nbformat": 4,
 "nbformat_minor": 2
}
